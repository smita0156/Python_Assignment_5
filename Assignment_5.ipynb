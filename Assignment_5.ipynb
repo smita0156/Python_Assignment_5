{
 "cells": [
  {
   "cell_type": "code",
   "execution_count": null,
   "id": "2062e47f-d6b8-4801-9cb4-fd51d854157e",
   "metadata": {},
   "outputs": [],
   "source": []
  },
  {
   "cell_type": "code",
   "execution_count": null,
   "id": "aa308f6a-b54d-4a8a-bd26-aba359531301",
   "metadata": {},
   "outputs": [],
   "source": [
    "Ans1. dict = {}\n",
    "type(dict)"
   ]
  },
  {
   "cell_type": "code",
   "execution_count": null,
   "id": "b872772e-de23-4661-af79-1b3b3ac444bc",
   "metadata": {},
   "outputs": [],
   "source": [
    "dict"
   ]
  },
  {
   "cell_type": "code",
   "execution_count": null,
   "id": "0cec6cda-6412-4208-8df5-611bd0f88d0a",
   "metadata": {},
   "outputs": [],
   "source": []
  },
  {
   "cell_type": "code",
   "execution_count": null,
   "id": "80710b8f-0fb3-4f13-8d9f-2703739a34b2",
   "metadata": {},
   "outputs": [],
   "source": [
    "Ans2. {'foo':42}\n"
   ]
  },
  {
   "cell_type": "code",
   "execution_count": null,
   "id": "784f8f84-a835-4068-a74f-3028a5379277",
   "metadata": {},
   "outputs": [],
   "source": [
    "{'foo': 42}\n"
   ]
  },
  {
   "cell_type": "code",
   "execution_count": null,
   "id": "55473718-a550-4c17-aa1b-a85c09367593",
   "metadata": {},
   "outputs": [],
   "source": []
  },
  {
   "cell_type": "code",
   "execution_count": null,
   "id": "d272132c-b566-4794-94dc-ea283aadc12c",
   "metadata": {},
   "outputs": [],
   "source": [
    "Ans3.#  Most significant difference:\n",
    "List - items in list are Ordered\n",
    "Dictionary : iten in dictionary are unordered"
   ]
  },
  {
   "cell_type": "code",
   "execution_count": null,
   "id": "f9a14722-104d-47c3-9a16-51ab19217946",
   "metadata": {},
   "outputs": [],
   "source": []
  },
  {
   "cell_type": "code",
   "execution_count": null,
   "id": "d1991681-e918-4504-8c0f-d033fc94c241",
   "metadata": {},
   "outputs": [],
   "source": [
    "Ans4. You will get a KeyError error."
   ]
  },
  {
   "cell_type": "code",
   "execution_count": null,
   "id": "022547c7-81a9-42dd-8a8d-ee89444430e9",
   "metadata": {},
   "outputs": [],
   "source": [
    "spam = {'bar':100}\n",
    "spam['foo']\n",
    "#This will give us key error"
   ]
  },
  {
   "cell_type": "code",
   "execution_count": null,
   "id": "1ef933e4-b8f5-46d1-94a5-58380ae66142",
   "metadata": {},
   "outputs": [],
   "source": []
  },
  {
   "cell_type": "code",
   "execution_count": null,
   "id": "47a3b2f4-dd7c-4f2a-b1fd-1ab9954e6f37",
   "metadata": {},
   "outputs": [],
   "source": [
    "Ans5. # There is no difference, the expression \" 'cat' in spam \" checks whether 'cat' is a key in spam."
   ]
  },
  {
   "cell_type": "code",
   "execution_count": null,
   "id": "fe6195e0-53f9-4bee-b977-fc0cbda21ccf",
   "metadata": {},
   "outputs": [],
   "source": [
    "spam ={'cat':100}\n",
    "'cat' in spam"
   ]
  },
  {
   "cell_type": "code",
   "execution_count": null,
   "id": "15fcd143-b0f5-48b3-8811-016c6bd07fa2",
   "metadata": {},
   "outputs": [],
   "source": [
    "True\n"
   ]
  },
  {
   "cell_type": "code",
   "execution_count": null,
   "id": "33a86b0f-7dd3-4772-8b3a-4477924628f7",
   "metadata": {},
   "outputs": [],
   "source": [
    "'cat' in spam.keys()\n",
    "#There is no differnce, both check if 'cat' is key of the dictionary and if its a key, returns True."
   ]
  },
  {
   "cell_type": "code",
   "execution_count": null,
   "id": "620e2e28-2d29-462c-ad64-27c6ae2736a0",
   "metadata": {},
   "outputs": [],
   "source": [
    "True\n"
   ]
  },
  {
   "cell_type": "code",
   "execution_count": null,
   "id": "c071415c-822e-491b-9b5d-49baf5e58958",
   "metadata": {},
   "outputs": [],
   "source": []
  },
  {
   "cell_type": "code",
   "execution_count": null,
   "id": "e5337735-fa8c-47b5-a89c-82ead417b360",
   "metadata": {},
   "outputs": [],
   "source": [
    "Ans6.  spam ={'cat':100}\n",
    "'cat' in spam\n",
    "     "
   ]
  },
  {
   "cell_type": "code",
   "execution_count": null,
   "id": "884ca06a-4207-4978-a929-f480b1f847d5",
   "metadata": {},
   "outputs": [],
   "source": [
    "True"
   ]
  },
  {
   "cell_type": "code",
   "execution_count": null,
   "id": "06437be3-de02-4de4-a12f-eddc5fcc2e3c",
   "metadata": {},
   "outputs": [],
   "source": [
    "spam ={'cat':100}\n",
    "'cat' in spam.values()\n",
    "\n",
    "#'cat' in spam checks whether there is a 'cat' key in the dictionary\n",
    "#'cat' in spam.values() checks whether there is a value 'cat' for one of the keys in spam."
   ]
  },
  {
   "cell_type": "code",
   "execution_count": null,
   "id": "66698c96-9ddc-4fb5-ad6e-045d970d1f82",
   "metadata": {},
   "outputs": [],
   "source": [
    "False\n"
   ]
  },
  {
   "cell_type": "code",
   "execution_count": null,
   "id": "48daa48b-f910-465b-8660-93ce6ac14477",
   "metadata": {},
   "outputs": [],
   "source": []
  },
  {
   "cell_type": "code",
   "execution_count": null,
   "id": "21230941-5732-439a-bba1-660703939a54",
   "metadata": {},
   "outputs": [],
   "source": [
    "Ans7. spam ={'cat':100}\n",
    "spam.setdefault('color','black')\n",
    "spam"
   ]
  },
  {
   "cell_type": "code",
   "execution_count": null,
   "id": "7401b5df-5fb3-4f91-bd98-8685c0f8608e",
   "metadata": {},
   "outputs": [],
   "source": [
    "{'cat': 100, 'color': 'black'}"
   ]
  },
  {
   "cell_type": "code",
   "execution_count": null,
   "id": "f0390ca3-c539-40ed-a6b0-0da3e876bdd6",
   "metadata": {},
   "outputs": [],
   "source": []
  },
  {
   "cell_type": "code",
   "execution_count": null,
   "id": "3fe4c4af-afb1-4443-96fa-fa81f4bada04",
   "metadata": {},
   "outputs": [],
   "source": [
    "Ans8. import pprint\n",
    "dct = [ {'Name': 'Shiva', 'Age': '23', 'Country': 'India'},\n",
    "  {'Name': 'Anna', 'Age': '44', 'Country': 'China'},\n",
    "  {'Name': 'Joe', 'Age': '29', 'Country': 'UK'},\n",
    "  {'Name': 'Chumlee', 'Age': '35', 'Country': 'USA'}\n",
    "]\n",
    "     "
   ]
  },
  {
   "cell_type": "code",
   "execution_count": null,
   "id": "18a0d8f0-a9c3-4a29-a779-900466cebed6",
   "metadata": {},
   "outputs": [],
   "source": [
    "# printing with pprint()\n",
    "pprint.pprint(dct)"
   ]
  },
  {
   "cell_type": "code",
   "execution_count": null,
   "id": "843fb846-eaa9-4178-aabe-2463503e1c29",
   "metadata": {},
   "outputs": [],
   "source": [
    "[{'Age': '23', 'Country': 'India', 'Name': 'Shiva'},\n",
    " {'Age': '44', 'Country': 'China', 'Name': 'Anna'},\n",
    " {'Age': '29', 'Country': 'UK', 'Name': 'Joe'},\n",
    " {'Age': '35', 'Country': 'USA', 'Name': 'Chumlee'}]\n"
   ]
  },
  {
   "cell_type": "code",
   "execution_count": null,
   "id": "fe744382-114f-46bd-b226-a45cc4c58569",
   "metadata": {},
   "outputs": [],
   "source": [
    "#Printing with print()\n",
    "print(dct_arr)"
   ]
  },
  {
   "cell_type": "code",
   "execution_count": null,
   "id": "eef86511-41ac-4565-9cf1-fa0480e6cab5",
   "metadata": {},
   "outputs": [],
   "source": [
    "[{'Name': 'Shiva', 'Age': '23', 'Country': 'India'}, {'Name': 'Anna', 'Age': '44', 'Country': 'China'}, {'Name': 'Joe', 'Age': '29', 'Country': 'UK'}, {'Name': 'Chumlee', 'Age': '35', 'Country': 'USA'}]"
   ]
  }
 ],
 "metadata": {
  "kernelspec": {
   "display_name": "Python 3 (ipykernel)",
   "language": "python",
   "name": "python3"
  },
  "language_info": {
   "codemirror_mode": {
    "name": "ipython",
    "version": 3
   },
   "file_extension": ".py",
   "mimetype": "text/x-python",
   "name": "python",
   "nbconvert_exporter": "python",
   "pygments_lexer": "ipython3",
   "version": "3.10.6"
  }
 },
 "nbformat": 4,
 "nbformat_minor": 5
}
